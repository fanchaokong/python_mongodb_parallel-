{
 "cells": [
  {
   "cell_type": "markdown",
   "metadata": {},
   "source": [
    "# TaskB-2&3"
   ]
  },
  {
   "cell_type": "code",
   "execution_count": 1,
   "metadata": {},
   "outputs": [],
   "source": [
    "# creator fkon0001@student.monash.edu\n",
    "import pymongo\n",
    "from pymongo import MongoClient\n",
    "from pprint import pprint"
   ]
  },
  {
   "cell_type": "code",
   "execution_count": 2,
   "metadata": {},
   "outputs": [],
   "source": [
    "'''\n",
    "Initial client\n",
    "Use the fit5148_db Database\n",
    "@climateCollection -> input the collection form taskA, the mongodb format climatePart-1.csv\n",
    "@fireCollection -> input the collection form taskA, the mongodb format firePart-1.csv\n",
    "@MergeCollection -> new database based on the document model I have designed in Task B1.\n",
    "'''\n",
    "client = MongoClient()\n",
    "db = client.fit5148_db\n",
    "climateCollection = db.climate1\n",
    "fireCollection = db.fire1\n",
    "MergeCollection = db.MergeCollection"
   ]
  },
  {
   "cell_type": "code",
   "execution_count": 3,
   "metadata": {},
   "outputs": [],
   "source": [
    "'''\n",
    "This fuction use for merging fireCollection and climateCollection\n",
    "@collection -> is a list use for storing the merge-result\n",
    "'''\n",
    "def mergeClimateFire():\n",
    "    cursorFire = fireCollection.find({})\n",
    "    cursorClimate = climateCollection.find({})\n",
    "    collection = []\n",
    "    \n",
    "    # put all document of climate collection into the collection list\n",
    "    for eachClimate in cursorClimate:\n",
    "        collection.append(eachClimate)\n",
    "    \n",
    "    # merge fire data at here\n",
    "    for eachRecord in collection:\n",
    "        # initial a fire field for each document\n",
    "        eachRecord[\"Fire\"] = []\n",
    "        # for each climate document find whether exit fire document with same \"Date\" value\n",
    "        for eachFire in fireCollection.find({\"Date\" : eachRecord[\"Date\"]}):\n",
    "            # delete the field \"Date\", because in climate document already has one, we do not need same field here\n",
    "            del eachFire[\"Date\"]\n",
    "            # for good understanding change the \"_id\" of fire document to \"_FireId\"\n",
    "            eachFire.update(_FireId = eachFire.pop(\"_id\"))\n",
    "            # add a new field \"SurfaceTemperature\" which has two field, \"Celcius\" & \"kelvin\".\n",
    "            # these two field use for represent \"Surface Temperature (Celcius)\" and \"Surface Temperature (kelvin)\"\n",
    "            eachFire.update(SurfaceTemperature = {\"Celcius\":eachFire['Surface Temperature (Celcius)'],'kelvin':eachFire['Surface Temperature (kelvin)']})\n",
    "            # delete two field, because we already represent in \"SurfaceTemperature\"\n",
    "            eachFire.pop('Surface Temperature (Celcius)')\n",
    "            eachFire.pop('Surface Temperature (kelvin)')\n",
    "            # add Fire document into climate data\n",
    "            eachRecord[\"Fire\"].append(eachFire)\n",
    "\n",
    "    return collection\n"
   ]
  },
  {
   "cell_type": "code",
   "execution_count": null,
   "metadata": {},
   "outputs": [],
   "source": [
    "# get collection of merging fireCollection and climateCollection\n",
    "collection = mergeClimateFire()"
   ]
  },
  {
   "cell_type": "code",
   "execution_count": null,
   "metadata": {},
   "outputs": [],
   "source": [
    "# check collection \n",
    "pprint(collection)"
   ]
  },
  {
   "cell_type": "code",
   "execution_count": 6,
   "metadata": {},
   "outputs": [],
   "source": [
    "# insert the collection into new database based on the document model I have designed in Task B1\n",
    "def insertCollection(collection, target):\n",
    "    for eachRecord in collection:\n",
    "        target.insert_one(eachRecord)\n",
    "    return target\n",
    "# for initial collection, make it convient to test\n",
    "def deleteCollection(target):\n",
    "    target.drop()"
   ]
  },
  {
   "cell_type": "code",
   "execution_count": 7,
   "metadata": {},
   "outputs": [],
   "source": [
    "# delete first\n",
    "deleteCollection(MergeCollection)"
   ]
  },
  {
   "cell_type": "code",
   "execution_count": 8,
   "metadata": {},
   "outputs": [
    {
     "data": {
      "text/plain": [
       "Collection(Database(MongoClient(host=['localhost:27017'], document_class=dict, tz_aware=False, connect=True), 'fit5148_db'), 'MergeCollection')"
      ]
     },
     "execution_count": 8,
     "metadata": {},
     "output_type": "execute_result"
    }
   ],
   "source": [
    "# insert here\n",
    "insertCollection(collection, MergeCollection)"
   ]
  },
  {
   "cell_type": "code",
   "execution_count": null,
   "metadata": {},
   "outputs": [],
   "source": [
    "def checkResult(collection):\n",
    "    cursor = collection.find({})\n",
    "    for eachDoc in cursor:\n",
    "        pprint(eachDoc)\n",
    "\n",
    "checkResult(MergeCollection)"
   ]
  },
  {
   "cell_type": "markdown",
   "metadata": {},
   "source": [
    "# taskB-4\n",
    "### For this task I choose TaskA-2"
   ]
  },
  {
   "cell_type": "code",
   "execution_count": 52,
   "metadata": {},
   "outputs": [
    {
     "name": "stdout",
     "output_type": "stream",
     "text": [
      "{'Air Temperature(Celcius)': 18,\n",
      " 'Date': '2017-12-15',\n",
      " 'Fire': [{'Confidence': 92,\n",
      "           'Datetime': '2017-12-15T13:17:17',\n",
      "           'Latitude': -37.627,\n",
      "           'Longitude': 149.33,\n",
      "           'Power': 23.1,\n",
      "           'SurfaceTemperature': {'Celcius': 42, 'kelvin': 315.9},\n",
      "           '_FireId': ObjectId('5af3cc31b14a6b797be553cb')},\n",
      "          {'Confidence': 78,\n",
      "           'Datetime': '2017-12-15T13:17:17',\n",
      "           'Latitude': -37.658,\n",
      "           'Longitude': 149.339,\n",
      "           'Power': 17.3,\n",
      "           'SurfaceTemperature': {'Celcius': 36, 'kelvin': 309.8},\n",
      "           '_FireId': ObjectId('5af3cc31b14a6b797be553cc')},\n",
      "          {'Confidence': 51,\n",
      "           'Datetime': '2017-12-15T13:17:17',\n",
      "           'Latitude': -37.623,\n",
      "           'Longitude': 149.323,\n",
      "           'Power': 17.8,\n",
      "           'SurfaceTemperature': {'Celcius': 38, 'kelvin': 311.9},\n",
      "           '_FireId': ObjectId('5af3cc31b14a6b797be553cd')},\n",
      "          {'Confidence': 65,\n",
      "           'Datetime': '2017-12-15T01:16:23',\n",
      "           'Latitude': -38.038,\n",
      "           'Longitude': 142.986,\n",
      "           'Power': 32.8,\n",
      "           'SurfaceTemperature': {'Celcius': 40, 'kelvin': 313.4},\n",
      "           '_FireId': ObjectId('5af3cc31b14a6b797be553ce')}],\n",
      " 'MAX': '74.5*',\n",
      " 'MIN': 53.1,\n",
      " 'Max Wind Speed': 14,\n",
      " 'Precipitation': '0.00I',\n",
      " 'Relative Humidity': 52,\n",
      " 'Station': 948702,\n",
      " 'WindSpeed  (knots)': 7.1,\n",
      " '_id': ObjectId('5af3cbb5b14a6b797be55391')}\n"
     ]
    }
   ],
   "source": [
    "import multiprocessing as mp\n",
    "from multiprocessing import Pool\n",
    "# this fuction use to show the result directly, use for check whether the result is right    \n",
    "def showResultDirectly(collection, date):   \n",
    "    cursor = collection.find({\"Date\": date})\n",
    "    for i in cursor:\n",
    "        pprint(i)\n",
    "\n",
    "# Look the result \n",
    "showResultDirectly(MergeCollection, \"2017-12-15\")"
   ]
  },
  {
   "cell_type": "code",
   "execution_count": 54,
   "metadata": {},
   "outputs": [],
   "source": [
    "'''\n",
    "Assume that we have 3 processors, as a result we can divde the data to 3 parts by using two time nodes. \n",
    "For divde equally, the time node shuold be the date of 10 and 20. If date less than 10 put it to first processor, else \n",
    "if it greater than 10 and less 20, put it to second processor, else put it to the last one.\n",
    "'''\n",
    "def whichProcessor(date):\n",
    "\n",
    "    if int(date[-2:]) <= 10:\n",
    "        return 0\n",
    "    else:\n",
    "        if int(date[-2:]) <= 20:\n",
    "            return 1\n",
    "        else:\n",
    "            return 2\n",
    "        \n",
    "'''\n",
    "This is the algorithm how we partioning data, for each record in the collection, we take the date value and compare\n",
    "with the time node. This function will back a value to piont the exactly which processor\n",
    "'''\n",
    "\n",
    "def partionByTime(collection):\n",
    "    result = []\n",
    "    \n",
    "    for i in range(3):\n",
    "        result.append([])\n",
    "        \n",
    "    cursor = collection.find({})\n",
    "    for eachRecord in cursor:\n",
    "        result[whichProcessor(eachRecord[\"Date\"])].append(eachRecord)\n",
    "    return result\n",
    "\n",
    "\n",
    "'''\n",
    "We alread get a partioned data. When user input a date value, firstly we use \"whichProcessor\" to determine\n",
    "which worker may has this value, then searh one by one in that worker. Everytime we find the value we put it to\n",
    "result list.\n",
    "'''\n",
    "\n",
    "def serialSearh(collection, date):\n",
    "    result = []\n",
    "    for i in collection:\n",
    "        if i[\"Date\"] == date:\n",
    "            result.append(i)\n",
    "    return result\n",
    "        \n",
    "def ParallelSearching(date, partionedCollection):\n",
    "    result = []\n",
    "    workerTask = []\n",
    "    pool = Pool(processes= 3)\n",
    "    \n",
    "    for i in partionedCollection:\n",
    "        workerTask = pool.apply_async(serialSearh, args=(i,date))\n",
    "        output = workerTask.get()\n",
    "        result.append(output)\n",
    "    \n",
    "    pool.close()\n",
    "    return result\n"
   ]
  },
  {
   "cell_type": "code",
   "execution_count": 55,
   "metadata": {},
   "outputs": [
    {
     "data": {
      "text/plain": [
       "[{'Air Temperature(Celcius)': 18,\n",
       "  'Date': '2017-12-15',\n",
       "  'Fire': [{'Confidence': 92,\n",
       "    'Datetime': '2017-12-15T13:17:17',\n",
       "    'Latitude': -37.627,\n",
       "    'Longitude': 149.33,\n",
       "    'Power': 23.1,\n",
       "    'SurfaceTemperature': {'Celcius': 42, 'kelvin': 315.9},\n",
       "    '_FireId': ObjectId('5af3cc31b14a6b797be553cb')},\n",
       "   {'Confidence': 78,\n",
       "    'Datetime': '2017-12-15T13:17:17',\n",
       "    'Latitude': -37.658,\n",
       "    'Longitude': 149.339,\n",
       "    'Power': 17.3,\n",
       "    'SurfaceTemperature': {'Celcius': 36, 'kelvin': 309.8},\n",
       "    '_FireId': ObjectId('5af3cc31b14a6b797be553cc')},\n",
       "   {'Confidence': 51,\n",
       "    'Datetime': '2017-12-15T13:17:17',\n",
       "    'Latitude': -37.623,\n",
       "    'Longitude': 149.323,\n",
       "    'Power': 17.8,\n",
       "    'SurfaceTemperature': {'Celcius': 38, 'kelvin': 311.9},\n",
       "    '_FireId': ObjectId('5af3cc31b14a6b797be553cd')},\n",
       "   {'Confidence': 65,\n",
       "    'Datetime': '2017-12-15T01:16:23',\n",
       "    'Latitude': -38.038,\n",
       "    'Longitude': 142.986,\n",
       "    'Power': 32.8,\n",
       "    'SurfaceTemperature': {'Celcius': 40, 'kelvin': 313.4},\n",
       "    '_FireId': ObjectId('5af3cc31b14a6b797be553ce')}],\n",
       "  'MAX': '74.5*',\n",
       "  'MIN': 53.1,\n",
       "  'Max Wind Speed': 14,\n",
       "  'Precipitation': '0.00I',\n",
       "  'Relative Humidity': 52,\n",
       "  'Station': 948702,\n",
       "  'WindSpeed  (knots)': 7.1,\n",
       "  '_id': ObjectId('5af3cbb5b14a6b797be55391')}]"
      ]
     },
     "execution_count": 55,
     "metadata": {},
     "output_type": "execute_result"
    }
   ],
   "source": [
    "# test whether serialSearh is right\n",
    "serialSearh(partionByTime(MergeCollection)[1], \"2017-12-15\")"
   ]
  },
  {
   "cell_type": "code",
   "execution_count": 56,
   "metadata": {},
   "outputs": [
    {
     "data": {
      "text/plain": [
       "[[],\n",
       " [{'Air Temperature(Celcius)': 18,\n",
       "   'Date': '2017-12-15',\n",
       "   'Fire': [{'Confidence': 92,\n",
       "     'Datetime': '2017-12-15T13:17:17',\n",
       "     'Latitude': -37.627,\n",
       "     'Longitude': 149.33,\n",
       "     'Power': 23.1,\n",
       "     'SurfaceTemperature': {'Celcius': 42, 'kelvin': 315.9},\n",
       "     '_FireId': ObjectId('5af3cc31b14a6b797be553cb')},\n",
       "    {'Confidence': 78,\n",
       "     'Datetime': '2017-12-15T13:17:17',\n",
       "     'Latitude': -37.658,\n",
       "     'Longitude': 149.339,\n",
       "     'Power': 17.3,\n",
       "     'SurfaceTemperature': {'Celcius': 36, 'kelvin': 309.8},\n",
       "     '_FireId': ObjectId('5af3cc31b14a6b797be553cc')},\n",
       "    {'Confidence': 51,\n",
       "     'Datetime': '2017-12-15T13:17:17',\n",
       "     'Latitude': -37.623,\n",
       "     'Longitude': 149.323,\n",
       "     'Power': 17.8,\n",
       "     'SurfaceTemperature': {'Celcius': 38, 'kelvin': 311.9},\n",
       "     '_FireId': ObjectId('5af3cc31b14a6b797be553cd')},\n",
       "    {'Confidence': 65,\n",
       "     'Datetime': '2017-12-15T01:16:23',\n",
       "     'Latitude': -38.038,\n",
       "     'Longitude': 142.986,\n",
       "     'Power': 32.8,\n",
       "     'SurfaceTemperature': {'Celcius': 40, 'kelvin': 313.4},\n",
       "     '_FireId': ObjectId('5af3cc31b14a6b797be553ce')}],\n",
       "   'MAX': '74.5*',\n",
       "   'MIN': 53.1,\n",
       "   'Max Wind Speed': 14,\n",
       "   'Precipitation': '0.00I',\n",
       "   'Relative Humidity': 52,\n",
       "   'Station': 948702,\n",
       "   'WindSpeed  (knots)': 7.1,\n",
       "   '_id': ObjectId('5af3cbb5b14a6b797be55391')}],\n",
       " []]"
      ]
     },
     "execution_count": 56,
     "metadata": {},
     "output_type": "execute_result"
    }
   ],
   "source": [
    "# do paralle searching \n",
    "ParallelSearching(\"2017-12-15\", partionByTime(MergeCollection))"
   ]
  },
  {
   "cell_type": "code",
   "execution_count": null,
   "metadata": {},
   "outputs": [],
   "source": []
  }
 ],
 "metadata": {
  "kernelspec": {
   "display_name": "Python 3",
   "language": "python",
   "name": "python3"
  },
  "language_info": {
   "codemirror_mode": {
    "name": "ipython",
    "version": 3
   },
   "file_extension": ".py",
   "mimetype": "text/x-python",
   "name": "python",
   "nbconvert_exporter": "python",
   "pygments_lexer": "ipython3",
   "version": "3.6.4"
  }
 },
 "nbformat": 4,
 "nbformat_minor": 2
}
